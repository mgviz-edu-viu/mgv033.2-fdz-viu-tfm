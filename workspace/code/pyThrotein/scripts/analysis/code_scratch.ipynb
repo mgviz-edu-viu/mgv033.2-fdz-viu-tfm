{
 "cells": [
  {
   "cell_type": "markdown",
   "id": "44568fed-52d7-4090-a172-e32f440783aa",
   "metadata": {},
   "source": []
  },
  {
   "cell_type": "code",
   "execution_count": 4,
   "id": "ce186cd5-4a85-42c3-a227-355e28fda0d3",
   "metadata": {},
   "outputs": [],
   "source": [
    "import pandas as pd\n",
    "import json"
   ]
  },
  {
   "cell_type": "code",
   "execution_count": null,
   "id": "bf180474-fd20-4329-bb31-ea8d605a91e8",
   "metadata": {},
   "outputs": [],
   "source": []
  },
  {
   "cell_type": "code",
   "execution_count": 8,
   "id": "390c6ad7-c4ba-4062-9f40-ab5a61d31bad",
   "metadata": {},
   "outputs": [],
   "source": [
    "excel_file_path = \"/workspaces/mgv033.2-fdz-viu-tfm/workspace/code/pyThrotein/data/raw_data/TFM_database.xlsx\"\n",
    "metadata_sheet_name=\"Metadata_per_table\""
   ]
  },
  {
   "cell_type": "code",
   "execution_count": null,
   "id": "b0c18231-a484-4423-9e88-81361beb40e8",
   "metadata": {},
   "outputs": [],
   "source": [
    "    # Leer el archivo Excel en un DataFrame\n",
    "excel_data = pd.read_excel(excel_file_path, sheet_name=metadata_sheet_name)\n",
    "\n",
    "excel_data"
   ]
  },
  {
   "cell_type": "code",
   "execution_count": 14,
   "id": "3f1ae891-74bc-4f86-a165-f569115ee739",
   "metadata": {},
   "outputs": [],
   "source": [
    "    # Agrupar los datos por el factor de purificación (table_name)\n",
    "grouped_data = excel_data.groupby('table_name')\n",
    "\n",
    "\n"
   ]
  },
  {
   "cell_type": "code",
   "execution_count": 16,
   "id": "1e06c941-a6a7-4efe-8c60-1acf210f95ac",
   "metadata": {},
   "outputs": [
    {
     "name": "stdout",
     "output_type": "stream",
     "text": [
      "Number of Groups: {'IEX': [25, 26, 27, 28, 29], 'IMAC': [17, 18, 19, 20, 21], 'Induction': [9, 10, 11, 12, 13, 14, 15, 16], 'Prot': [0, 1, 2, 3, 4, 5, 6, 7, 8], 'SEC': [30, 31, 32, 33, 34, 35], 'SUMO': [22, 23, 24]}\n"
     ]
    }
   ],
   "source": [
    "num_groups = grouped_data.groups\n",
    "print(f\"Number of Groups: {num_groups}\")"
   ]
  },
  {
   "cell_type": "code",
   "execution_count": 25,
   "id": "b8310400-8230-4e54-9b65-28cbd8435b20",
   "metadata": {},
   "outputs": [
    {
     "data": {
      "text/html": [
       "<div>\n",
       "<style scoped>\n",
       "    .dataframe tbody tr th:only-of-type {\n",
       "        vertical-align: middle;\n",
       "    }\n",
       "\n",
       "    .dataframe tbody tr th {\n",
       "        vertical-align: top;\n",
       "    }\n",
       "\n",
       "    .dataframe thead th {\n",
       "        text-align: right;\n",
       "    }\n",
       "</style>\n",
       "<table border=\"1\" class=\"dataframe\">\n",
       "  <thead>\n",
       "    <tr style=\"text-align: right;\">\n",
       "      <th></th>\n",
       "      <th>table_name</th>\n",
       "      <th>variable_name</th>\n",
       "      <th>type</th>\n",
       "      <th>values_limit</th>\n",
       "      <th>comments</th>\n",
       "    </tr>\n",
       "  </thead>\n",
       "  <tbody>\n",
       "    <tr>\n",
       "      <th>25</th>\n",
       "      <td>IEX</td>\n",
       "      <td>date_IEX</td>\n",
       "      <td>str</td>\n",
       "      <td>NaN</td>\n",
       "      <td>date IEX was performed</td>\n",
       "    </tr>\n",
       "    <tr>\n",
       "      <th>26</th>\n",
       "      <td>IEX</td>\n",
       "      <td>column_IEX</td>\n",
       "      <td>enum</td>\n",
       "      <td>Q,S</td>\n",
       "      <td>type of IEX column. (-)-charged protein binds ...</td>\n",
       "    </tr>\n",
       "    <tr>\n",
       "      <th>27</th>\n",
       "      <td>IEX</td>\n",
       "      <td>column_volume_IEX</td>\n",
       "      <td>enum</td>\n",
       "      <td>5,6,1</td>\n",
       "      <td>volume (ml) of IEX column. Approximately relat...</td>\n",
       "    </tr>\n",
       "    <tr>\n",
       "      <th>28</th>\n",
       "      <td>IEX</td>\n",
       "      <td>purity_IEX</td>\n",
       "      <td>int</td>\n",
       "      <td>NaN</td>\n",
       "      <td>% protein purity compared to contaminants in a...</td>\n",
       "    </tr>\n",
       "    <tr>\n",
       "      <th>29</th>\n",
       "      <td>IEX</td>\n",
       "      <td>mg_IEX</td>\n",
       "      <td>float</td>\n",
       "      <td>NaN</td>\n",
       "      <td>protein yield (mg) after IEX</td>\n",
       "    </tr>\n",
       "  </tbody>\n",
       "</table>\n",
       "</div>"
      ],
      "text/plain": [
       "   table_name      variable_name   type values_limit  \\\n",
       "25        IEX           date_IEX    str          NaN   \n",
       "26        IEX         column_IEX   enum          Q,S   \n",
       "27        IEX  column_volume_IEX   enum        5,6,1   \n",
       "28        IEX         purity_IEX    int          NaN   \n",
       "29        IEX             mg_IEX  float          NaN   \n",
       "\n",
       "                                             comments  \n",
       "25                             date IEX was performed  \n",
       "26  type of IEX column. (-)-charged protein binds ...  \n",
       "27  volume (ml) of IEX column. Approximately relat...  \n",
       "28  % protein purity compared to contaminants in a...  \n",
       "29                       protein yield (mg) after IEX  "
      ]
     },
     "execution_count": 25,
     "metadata": {},
     "output_type": "execute_result"
    }
   ],
   "source": [
    "grouped_data.get_group(\"IEX\")"
   ]
  },
  {
   "cell_type": "code",
   "execution_count": 67,
   "id": "05cbe91a-bef5-4068-95be-4e222ad634b7",
   "metadata": {},
   "outputs": [
    {
     "name": "stdout",
     "output_type": "stream",
     "text": [
      "{'table_name': 'IEX', 'variable_name': 'date_IEX', 'type': 'str', 'values_limit': '', 'comments': 'date IEX was performed'}\n",
      "{'table_name': 'IEX', 'variable_name': 'column_IEX', 'type': 'enum', 'values_limit': 'Q,S', 'comments': 'type of IEX column. (-)-charged protein binds to (+)-charged column (Q), (+)-charged protein binds to (-)-charged column (S)'}\n",
      "{'table_name': 'IEX', 'variable_name': 'column_volume_IEX', 'type': 'enum', 'values_limit': '5,6,1', 'comments': 'volume (ml) of IEX column. Approximately related to maximum protein-bound capacity: 5 (max. 275 mg, type HP), 6 (max. 240 mg, type Resource), 1 (max. 45 mg, type Resource)'}\n",
      "{'table_name': 'IEX', 'variable_name': 'purity_IEX', 'type': 'int', 'values_limit': '', 'comments': '% protein purity compared to contaminants in an SDS-PAGE'}\n",
      "{'table_name': 'IEX', 'variable_name': 'mg_IEX', 'type': 'float', 'values_limit': '', 'comments': 'protein yield (mg) after IEX'}\n",
      "{'table_name': 'IMAC', 'variable_name': 'date_IMAC', 'type': 'str', 'values_limit': '', 'comments': 'date IMAC was performed'}\n",
      "{'table_name': 'IMAC', 'variable_name': 'wash_IMAC', 'type': 'enum', 'values_limit': 'mild,moderate,harsh,urea', 'comments': 'Type of wash in IMAC. Mild (low ionic strength, 200-500 mM NaCl), moderate (high ionic strength, 1 M NaCl), harsh (1 M NaCl plus LiSO4 and Bicine), urea (hard wash, denatures protein)'}\n",
      "{'table_name': 'IMAC', 'variable_name': 'buffer_IMAC', 'type': 'enum', 'values_limit': 'T8.5,T8.0,T7.5,Ph7.5,Ph7.0,Ph6.8', 'comments': 'Type of buffer at which protein is eluted. T (Tris-HCl, pH 8.5, 8.0, 7.5), Ph (Na phosphate, pH 7.5, 7.0, 6.8)'}\n",
      "{'table_name': 'IMAC', 'variable_name': 'purity_IMAC', 'type': 'int', 'values_limit': '', 'comments': '% protein purity compared to contaminants in an SDS-PAGE'}\n",
      "{'table_name': 'IMAC', 'variable_name': 'mg_IMAC', 'type': 'float', 'values_limit': '', 'comments': 'protein yield (mg) after IMAC'}\n",
      "{'table_name': 'Induction', 'variable_name': 'date_ind', 'type': 'str', 'values_limit': '', 'comments': 'date induction was performed'}\n",
      "{'table_name': 'Induction', 'variable_name': 'cells', 'type': 'enum', 'values_limit': 'Star,Rosetta,pLEMO,Lobstr', 'comments': 'type of bacteria used to generate protein'}\n",
      "{'table_name': 'Induction', 'variable_name': 'medium', 'type': 'enum', 'values_limit': '2xYT,M9,P,Terrific_broth', 'comments': 'type of medium used to grow bacteria. According to nutrients richness/composition: Terrific_broth(extra-rich), 2xYT (rich), M9 (moderate), P (rich in phosphate)'}\n",
      "{'table_name': 'Induction', 'variable_name': 'volume', 'type': 'float', 'values_limit': '', 'comments': 'Volume of medium used to grow bacteria'}\n",
      "{'table_name': 'Induction', 'variable_name': 'OD', 'type': 'float', 'values_limit': '', 'comments': 'optical density at which protein is induced'}\n",
      "{'table_name': 'Induction', 'variable_name': 'temp', 'type': 'int', 'values_limit': '', 'comments': 'temperature (Celsius) at which bacteria grow during induction'}\n",
      "{'table_name': 'Induction', 'variable_name': 'hours', 'type': 'int', 'values_limit': '', 'comments': 'time (hours) that protein is being induced (from start of induction to pellet collection)'}\n",
      "{'table_name': 'Induction', 'variable_name': 'pellet', 'type': 'float', 'values_limit': '', 'comments': 'pellet obtained (grams)'}\n",
      "{'table_name': 'Prot', 'variable_name': 'exp_id', 'type': 'int', 'values_limit': '', 'comments': 'experiment identification number'}\n",
      "{'table_name': 'Prot', 'variable_name': 'id', 'type': 'str', 'values_limit': '', 'comments': 'step conditions identification number. One number each indicating a particular set of experimental conditions for each experiment performed '}\n",
      "{'table_name': 'Prot', 'variable_name': 'Protein', 'type': 'str', 'values_limit': '', 'comments': 'protein name'}\n",
      "{'table_name': 'Prot', 'variable_name': 'Species', 'type': 'enum', 'values_limit': 'mammal,CHIKV,VEEV,SARS_CoV_2', 'comments': 'mammal or virus species'}\n",
      "{'table_name': 'Prot', 'variable_name': 'His_tag', 'type': 'enum', 'values_limit': 'N,C', 'comments': 'His-tag location in protein. N-terminal (N) or C-terminal (C)'}\n",
      "{'table_name': 'Prot', 'variable_name': 'SUMO_tag', 'type': 'enum', 'values_limit': 'TRUE,FALSE', 'comments': 'Contains (TRUE), or not (FALSE), SUMO-tag'}\n",
      "{'table_name': 'Prot', 'variable_name': 'MW', 'type': 'float', 'values_limit': '', 'comments': 'molecular weight'}\n",
      "{'table_name': 'Prot', 'variable_name': 'pI', 'type': 'float', 'values_limit': '', 'comments': 'isoelectric point, pH at which protein has no net charge. Values between 0 and 14'}\n",
      "{'table_name': 'Prot', 'variable_name': 'Charge_pH7', 'type': 'float', 'values_limit': '', 'comments': 'protein charge at pH7. Values between 0 and 14'}\n",
      "{'table_name': 'SEC', 'variable_name': 'date_SEC', 'type': 'str', 'values_limit': '', 'comments': 'date SEC was performed'}\n",
      "{'table_name': 'SEC', 'variable_name': 'column_SEC', 'type': 'enum', 'values_limit': 'superdex,superdex_highload', 'comments': 'type of SEC column. Related to maximum sample volume that can be loaded. Superdex (max. 0.45 ml), superdex_highload (max. 4.5 ml)'}\n",
      "{'table_name': 'SEC', 'variable_name': 'column_unit_SEC', 'type': 'enum', 'values_limit': 75200, 'comments': 'type of SEC column according to MW of contaminants to discard. 75 (for small MW contaminants), 200 (for high MW contaminants)'}\n",
      "{'table_name': 'SEC', 'variable_name': 'purity_SEC', 'type': 'int', 'values_limit': '', 'comments': '% protein purity compared to contaminants in an SDS-PAGE'}\n",
      "{'table_name': 'SEC', 'variable_name': 'mg_SEC', 'type': 'float', 'values_limit': '', 'comments': 'protein yield (mg) after SEC'}\n",
      "{'table_name': 'SEC', 'variable_name': 'peak_SEC', 'type': 'int', 'values_limit': '', 'comments': 'volume (ml) at which protein elutes in a SEC purification. Related to MW'}\n",
      "{'table_name': 'SUMO', 'variable_name': 'date_SUMO', 'type': 'str', 'values_limit': '', 'comments': 'date SUMO cleavage was performed'}\n",
      "{'table_name': 'SUMO', 'variable_name': 'perc_cleaved_SUMO', 'type': 'int', 'values_limit': '', 'comments': 'percentage of protein cleaved in an SDS-PAGE'}\n",
      "{'table_name': 'SUMO', 'variable_name': 'mg_SUMO', 'type': 'float', 'values_limit': '', 'comments': 'protein yield (mg) after SUMO cleavage'}\n"
     ]
    },
    {
     "data": {
      "text/plain": [
       "{'IEX': [{'table_name': 'IEX',\n",
       "   'variable_name': 'date_IEX',\n",
       "   'type': 'str',\n",
       "   'values_limit': [],\n",
       "   'comments': 'date IEX was performed'},\n",
       "  {'table_name': 'IEX',\n",
       "   'variable_name': 'column_IEX',\n",
       "   'type': 'enum',\n",
       "   'values_limit': ['Q', 'S'],\n",
       "   'comments': 'type of IEX column. (-)-charged protein binds to (+)-charged column (Q), (+)-charged protein binds to (-)-charged column (S)'},\n",
       "  {'table_name': 'IEX',\n",
       "   'variable_name': 'column_volume_IEX',\n",
       "   'type': 'enum',\n",
       "   'values_limit': ['5', '6', '1'],\n",
       "   'comments': 'volume (ml) of IEX column. Approximately related to maximum protein-bound capacity: 5 (max. 275 mg, type HP), 6 (max. 240 mg, type Resource), 1 (max. 45 mg, type Resource)'},\n",
       "  {'table_name': 'IEX',\n",
       "   'variable_name': 'purity_IEX',\n",
       "   'type': 'int',\n",
       "   'values_limit': [],\n",
       "   'comments': '% protein purity compared to contaminants in an SDS-PAGE'},\n",
       "  {'table_name': 'IEX',\n",
       "   'variable_name': 'mg_IEX',\n",
       "   'type': 'float',\n",
       "   'values_limit': [],\n",
       "   'comments': 'protein yield (mg) after IEX'}],\n",
       " 'IMAC': [{'table_name': 'IMAC',\n",
       "   'variable_name': 'date_IMAC',\n",
       "   'type': 'str',\n",
       "   'values_limit': [],\n",
       "   'comments': 'date IMAC was performed'},\n",
       "  {'table_name': 'IMAC',\n",
       "   'variable_name': 'wash_IMAC',\n",
       "   'type': 'enum',\n",
       "   'values_limit': ['mild', 'moderate', 'harsh', 'urea'],\n",
       "   'comments': 'Type of wash in IMAC. Mild (low ionic strength, 200-500 mM NaCl), moderate (high ionic strength, 1 M NaCl), harsh (1 M NaCl plus LiSO4 and Bicine), urea (hard wash, denatures protein)'},\n",
       "  {'table_name': 'IMAC',\n",
       "   'variable_name': 'buffer_IMAC',\n",
       "   'type': 'enum',\n",
       "   'values_limit': ['T8.5', 'T8.0', 'T7.5', 'Ph7.5', 'Ph7.0', 'Ph6.8'],\n",
       "   'comments': 'Type of buffer at which protein is eluted. T (Tris-HCl, pH 8.5, 8.0, 7.5), Ph (Na phosphate, pH 7.5, 7.0, 6.8)'},\n",
       "  {'table_name': 'IMAC',\n",
       "   'variable_name': 'purity_IMAC',\n",
       "   'type': 'int',\n",
       "   'values_limit': [],\n",
       "   'comments': '% protein purity compared to contaminants in an SDS-PAGE'},\n",
       "  {'table_name': 'IMAC',\n",
       "   'variable_name': 'mg_IMAC',\n",
       "   'type': 'float',\n",
       "   'values_limit': [],\n",
       "   'comments': 'protein yield (mg) after IMAC'}],\n",
       " 'Induction': [{'table_name': 'Induction',\n",
       "   'variable_name': 'date_ind',\n",
       "   'type': 'str',\n",
       "   'values_limit': [],\n",
       "   'comments': 'date induction was performed'},\n",
       "  {'table_name': 'Induction',\n",
       "   'variable_name': 'cells',\n",
       "   'type': 'enum',\n",
       "   'values_limit': ['Star', 'Rosetta', 'pLEMO', 'Lobstr'],\n",
       "   'comments': 'type of bacteria used to generate protein'},\n",
       "  {'table_name': 'Induction',\n",
       "   'variable_name': 'medium',\n",
       "   'type': 'enum',\n",
       "   'values_limit': ['2xYT', 'M9', 'P', 'Terrific_broth'],\n",
       "   'comments': 'type of medium used to grow bacteria. According to nutrients richness/composition: Terrific_broth(extra-rich), 2xYT (rich), M9 (moderate), P (rich in phosphate)'},\n",
       "  {'table_name': 'Induction',\n",
       "   'variable_name': 'volume',\n",
       "   'type': 'float',\n",
       "   'values_limit': [],\n",
       "   'comments': 'Volume of medium used to grow bacteria'},\n",
       "  {'table_name': 'Induction',\n",
       "   'variable_name': 'OD',\n",
       "   'type': 'float',\n",
       "   'values_limit': [],\n",
       "   'comments': 'optical density at which protein is induced'},\n",
       "  {'table_name': 'Induction',\n",
       "   'variable_name': 'temp',\n",
       "   'type': 'int',\n",
       "   'values_limit': [],\n",
       "   'comments': 'temperature (Celsius) at which bacteria grow during induction'},\n",
       "  {'table_name': 'Induction',\n",
       "   'variable_name': 'hours',\n",
       "   'type': 'int',\n",
       "   'values_limit': [],\n",
       "   'comments': 'time (hours) that protein is being induced (from start of induction to pellet collection)'},\n",
       "  {'table_name': 'Induction',\n",
       "   'variable_name': 'pellet',\n",
       "   'type': 'float',\n",
       "   'values_limit': [],\n",
       "   'comments': 'pellet obtained (grams)'}],\n",
       " 'Prot': [{'table_name': 'Prot',\n",
       "   'variable_name': 'exp_id',\n",
       "   'type': 'int',\n",
       "   'values_limit': [],\n",
       "   'comments': 'experiment identification number'},\n",
       "  {'table_name': 'Prot',\n",
       "   'variable_name': 'id',\n",
       "   'type': 'str',\n",
       "   'values_limit': [],\n",
       "   'comments': 'step conditions identification number. One number each indicating a particular set of experimental conditions for each experiment performed '},\n",
       "  {'table_name': 'Prot',\n",
       "   'variable_name': 'Protein',\n",
       "   'type': 'str',\n",
       "   'values_limit': [],\n",
       "   'comments': 'protein name'},\n",
       "  {'table_name': 'Prot',\n",
       "   'variable_name': 'Species',\n",
       "   'type': 'enum',\n",
       "   'values_limit': ['mammal', 'CHIKV', 'VEEV', 'SARS_CoV_2'],\n",
       "   'comments': 'mammal or virus species'},\n",
       "  {'table_name': 'Prot',\n",
       "   'variable_name': 'His_tag',\n",
       "   'type': 'enum',\n",
       "   'values_limit': ['N', 'C'],\n",
       "   'comments': 'His-tag location in protein. N-terminal (N) or C-terminal (C)'},\n",
       "  {'table_name': 'Prot',\n",
       "   'variable_name': 'SUMO_tag',\n",
       "   'type': 'enum',\n",
       "   'values_limit': ['TRUE', 'FALSE'],\n",
       "   'comments': 'Contains (TRUE), or not (FALSE), SUMO-tag'},\n",
       "  {'table_name': 'Prot',\n",
       "   'variable_name': 'MW',\n",
       "   'type': 'float',\n",
       "   'values_limit': [],\n",
       "   'comments': 'molecular weight'},\n",
       "  {'table_name': 'Prot',\n",
       "   'variable_name': 'pI',\n",
       "   'type': 'float',\n",
       "   'values_limit': [],\n",
       "   'comments': 'isoelectric point, pH at which protein has no net charge. Values between 0 and 14'},\n",
       "  {'table_name': 'Prot',\n",
       "   'variable_name': 'Charge_pH7',\n",
       "   'type': 'float',\n",
       "   'values_limit': [],\n",
       "   'comments': 'protein charge at pH7. Values between 0 and 14'}],\n",
       " 'SEC': [{'table_name': 'SEC',\n",
       "   'variable_name': 'date_SEC',\n",
       "   'type': 'str',\n",
       "   'values_limit': [],\n",
       "   'comments': 'date SEC was performed'},\n",
       "  {'table_name': 'SEC',\n",
       "   'variable_name': 'column_SEC',\n",
       "   'type': 'enum',\n",
       "   'values_limit': ['superdex', 'superdex_highload'],\n",
       "   'comments': 'type of SEC column. Related to maximum sample volume that can be loaded. Superdex (max. 0.45 ml), superdex_highload (max. 4.5 ml)'},\n",
       "  {'table_name': 'SEC',\n",
       "   'variable_name': 'column_unit_SEC',\n",
       "   'type': 'enum',\n",
       "   'values_limit': ['75200'],\n",
       "   'comments': 'type of SEC column according to MW of contaminants to discard. 75 (for small MW contaminants), 200 (for high MW contaminants)'},\n",
       "  {'table_name': 'SEC',\n",
       "   'variable_name': 'purity_SEC',\n",
       "   'type': 'int',\n",
       "   'values_limit': [],\n",
       "   'comments': '% protein purity compared to contaminants in an SDS-PAGE'},\n",
       "  {'table_name': 'SEC',\n",
       "   'variable_name': 'mg_SEC',\n",
       "   'type': 'float',\n",
       "   'values_limit': [],\n",
       "   'comments': 'protein yield (mg) after SEC'},\n",
       "  {'table_name': 'SEC',\n",
       "   'variable_name': 'peak_SEC',\n",
       "   'type': 'int',\n",
       "   'values_limit': [],\n",
       "   'comments': 'volume (ml) at which protein elutes in a SEC purification. Related to MW'}],\n",
       " 'SUMO': [{'table_name': 'SUMO',\n",
       "   'variable_name': 'date_SUMO',\n",
       "   'type': 'str',\n",
       "   'values_limit': [],\n",
       "   'comments': 'date SUMO cleavage was performed'},\n",
       "  {'table_name': 'SUMO',\n",
       "   'variable_name': 'perc_cleaved_SUMO',\n",
       "   'type': 'int',\n",
       "   'values_limit': [],\n",
       "   'comments': 'percentage of protein cleaved in an SDS-PAGE'},\n",
       "  {'table_name': 'SUMO',\n",
       "   'variable_name': 'mg_SUMO',\n",
       "   'type': 'float',\n",
       "   'values_limit': [],\n",
       "   'comments': 'protein yield (mg) after SUMO cleavage'}]}"
      ]
     },
     "execution_count": 67,
     "metadata": {},
     "output_type": "execute_result"
    }
   ],
   "source": [
    "# Crear un diccionario para almacenar el JSON resultante\n",
    "result_json = {}\n",
    "\n",
    "# Iterar a través de cada grupo y crear un JSON para cada uno\n",
    "for group_name, group_data in grouped_data:\n",
    "    result_json[group_name] = process_group(grouped_data.get_group(group_name))\n",
    "\n",
    "result_json"
   ]
  },
  {
   "cell_type": "code",
   "execution_count": 68,
   "id": "55617ada-51f1-41e2-aed3-471158f5babf",
   "metadata": {},
   "outputs": [
    {
     "name": "stdout",
     "output_type": "stream",
     "text": [
      "{'table_name': 'IEX', 'variable_name': 'date_IEX', 'type': 'str', 'values_limit': '', 'comments': 'date IEX was performed'}\n",
      "{'table_name': 'IEX', 'variable_name': 'column_IEX', 'type': 'enum', 'values_limit': 'Q,S', 'comments': 'type of IEX column. (-)-charged protein binds to (+)-charged column (Q), (+)-charged protein binds to (-)-charged column (S)'}\n",
      "{'table_name': 'IEX', 'variable_name': 'column_volume_IEX', 'type': 'enum', 'values_limit': '5,6,1', 'comments': 'volume (ml) of IEX column. Approximately related to maximum protein-bound capacity: 5 (max. 275 mg, type HP), 6 (max. 240 mg, type Resource), 1 (max. 45 mg, type Resource)'}\n",
      "{'table_name': 'IEX', 'variable_name': 'purity_IEX', 'type': 'int', 'values_limit': '', 'comments': '% protein purity compared to contaminants in an SDS-PAGE'}\n",
      "{'table_name': 'IEX', 'variable_name': 'mg_IEX', 'type': 'float', 'values_limit': '', 'comments': 'protein yield (mg) after IEX'}\n"
     ]
    },
    {
     "data": {
      "text/plain": [
       "[{'table_name': 'IEX',\n",
       "  'variable_name': 'date_IEX',\n",
       "  'type': 'str',\n",
       "  'values_limit': [],\n",
       "  'comments': 'date IEX was performed'},\n",
       " {'table_name': 'IEX',\n",
       "  'variable_name': 'column_IEX',\n",
       "  'type': 'enum',\n",
       "  'values_limit': ['Q', 'S'],\n",
       "  'comments': 'type of IEX column. (-)-charged protein binds to (+)-charged column (Q), (+)-charged protein binds to (-)-charged column (S)'},\n",
       " {'table_name': 'IEX',\n",
       "  'variable_name': 'column_volume_IEX',\n",
       "  'type': 'enum',\n",
       "  'values_limit': ['5', '6', '1'],\n",
       "  'comments': 'volume (ml) of IEX column. Approximately related to maximum protein-bound capacity: 5 (max. 275 mg, type HP), 6 (max. 240 mg, type Resource), 1 (max. 45 mg, type Resource)'},\n",
       " {'table_name': 'IEX',\n",
       "  'variable_name': 'purity_IEX',\n",
       "  'type': 'int',\n",
       "  'values_limit': [],\n",
       "  'comments': '% protein purity compared to contaminants in an SDS-PAGE'},\n",
       " {'table_name': 'IEX',\n",
       "  'variable_name': 'mg_IEX',\n",
       "  'type': 'float',\n",
       "  'values_limit': [],\n",
       "  'comments': 'protein yield (mg) after IEX'}]"
      ]
     },
     "execution_count": 68,
     "metadata": {},
     "output_type": "execute_result"
    }
   ],
   "source": [
    "# Función para procesar cada grupo y crear un JSON para cada uno\n",
    "def process_group(group_data):\n",
    "\n",
    "    group_json = group_data.fillna(\"\").to_dict(orient='records')\n",
    "    \n",
    "    # Transformar values_limit en una lista o lista vacía\n",
    "    for item in group_json:\n",
    "        print(item)\n",
    "        item['values_limit'] = transform_values_limit(item.get('values_limit'))\n",
    "    \n",
    "    return group_json\n",
    "\n",
    "process_group(grouped_data.get_group(\"IEX\"))"
   ]
  },
  {
   "cell_type": "code",
   "execution_count": 39,
   "id": "ac57118d-e6db-4ca0-9ea7-3049ec9d6be3",
   "metadata": {},
   "outputs": [
    {
     "data": {
      "text/plain": [
       "{'IEX': [25, 26, 27, 28, 29], 'IMAC': [17, 18, 19, 20, 21], 'Induction': [9, 10, 11, 12, 13, 14, 15, 16], 'Prot': [0, 1, 2, 3, 4, 5, 6, 7, 8], 'SEC': [30, 31, 32, 33, 34, 35], 'SUMO': [22, 23, 24]}"
      ]
     },
     "execution_count": 39,
     "metadata": {},
     "output_type": "execute_result"
    }
   ],
   "source": [
    "\n",
    "grouped_data.groups"
   ]
  },
  {
   "cell_type": "code",
   "execution_count": 42,
   "id": "8e88fb84-d274-401c-8e1d-b4f4371d71e0",
   "metadata": {},
   "outputs": [
    {
     "data": {
      "text/html": [
       "<div>\n",
       "<style scoped>\n",
       "    .dataframe tbody tr th:only-of-type {\n",
       "        vertical-align: middle;\n",
       "    }\n",
       "\n",
       "    .dataframe tbody tr th {\n",
       "        vertical-align: top;\n",
       "    }\n",
       "\n",
       "    .dataframe thead th {\n",
       "        text-align: right;\n",
       "    }\n",
       "</style>\n",
       "<table border=\"1\" class=\"dataframe\">\n",
       "  <thead>\n",
       "    <tr style=\"text-align: right;\">\n",
       "      <th></th>\n",
       "      <th>table_name</th>\n",
       "      <th>variable_name</th>\n",
       "      <th>type</th>\n",
       "      <th>values_limit</th>\n",
       "      <th>comments</th>\n",
       "    </tr>\n",
       "  </thead>\n",
       "  <tbody>\n",
       "    <tr>\n",
       "      <th>25</th>\n",
       "      <td>IEX</td>\n",
       "      <td>date_IEX</td>\n",
       "      <td>str</td>\n",
       "      <td>NaN</td>\n",
       "      <td>date IEX was performed</td>\n",
       "    </tr>\n",
       "    <tr>\n",
       "      <th>26</th>\n",
       "      <td>IEX</td>\n",
       "      <td>column_IEX</td>\n",
       "      <td>enum</td>\n",
       "      <td>Q,S</td>\n",
       "      <td>type of IEX column. (-)-charged protein binds ...</td>\n",
       "    </tr>\n",
       "    <tr>\n",
       "      <th>27</th>\n",
       "      <td>IEX</td>\n",
       "      <td>column_volume_IEX</td>\n",
       "      <td>enum</td>\n",
       "      <td>5,6,1</td>\n",
       "      <td>volume (ml) of IEX column. Approximately relat...</td>\n",
       "    </tr>\n",
       "    <tr>\n",
       "      <th>28</th>\n",
       "      <td>IEX</td>\n",
       "      <td>purity_IEX</td>\n",
       "      <td>int</td>\n",
       "      <td>NaN</td>\n",
       "      <td>% protein purity compared to contaminants in a...</td>\n",
       "    </tr>\n",
       "    <tr>\n",
       "      <th>29</th>\n",
       "      <td>IEX</td>\n",
       "      <td>mg_IEX</td>\n",
       "      <td>float</td>\n",
       "      <td>NaN</td>\n",
       "      <td>protein yield (mg) after IEX</td>\n",
       "    </tr>\n",
       "  </tbody>\n",
       "</table>\n",
       "</div>"
      ],
      "text/plain": [
       "   table_name      variable_name   type values_limit  \\\n",
       "25        IEX           date_IEX    str          NaN   \n",
       "26        IEX         column_IEX   enum          Q,S   \n",
       "27        IEX  column_volume_IEX   enum        5,6,1   \n",
       "28        IEX         purity_IEX    int          NaN   \n",
       "29        IEX             mg_IEX  float          NaN   \n",
       "\n",
       "                                             comments  \n",
       "25                             date IEX was performed  \n",
       "26  type of IEX column. (-)-charged protein binds ...  \n",
       "27  volume (ml) of IEX column. Approximately relat...  \n",
       "28  % protein purity compared to contaminants in a...  \n",
       "29                       protein yield (mg) after IEX  "
      ]
     },
     "execution_count": 42,
     "metadata": {},
     "output_type": "execute_result"
    }
   ],
   "source": [
    "grouped_data.get_group(\"IEX\")"
   ]
  },
  {
   "cell_type": "code",
   "execution_count": 47,
   "id": "f8c218fd-089d-4277-8276-67a8cc1cf332",
   "metadata": {},
   "outputs": [
    {
     "data": {
      "text/plain": [
       "6"
      ]
     },
     "execution_count": 47,
     "metadata": {},
     "output_type": "execute_result"
    }
   ],
   "source": [
    "grouped_data.ngroups"
   ]
  },
  {
   "cell_type": "code",
   "execution_count": 48,
   "id": "a99a6fab-83e5-4d5b-a8a1-2084844ad202",
   "metadata": {
    "scrolled": true
   },
   "outputs": [
    {
     "name": "stdout",
     "output_type": "stream",
     "text": [
      "{'table_name': 'IEX', 'variable_name': 'date_IEX', 'type': 'str', 'values_limit': nan, 'comments': 'date IEX was performed'}\n",
      "{'table_name': 'IEX', 'variable_name': 'column_IEX', 'type': 'enum', 'values_limit': 'Q,S', 'comments': 'type of IEX column. (-)-charged protein binds to (+)-charged column (Q), (+)-charged protein binds to (-)-charged column (S)'}\n",
      "{'table_name': 'IEX', 'variable_name': 'column_volume_IEX', 'type': 'enum', 'values_limit': '5,6,1', 'comments': 'volume (ml) of IEX column. Approximately related to maximum protein-bound capacity: 5 (max. 275 mg, type HP), 6 (max. 240 mg, type Resource), 1 (max. 45 mg, type Resource)'}\n",
      "{'table_name': 'IEX', 'variable_name': 'purity_IEX', 'type': 'int', 'values_limit': nan, 'comments': '% protein purity compared to contaminants in an SDS-PAGE'}\n",
      "{'table_name': 'IEX', 'variable_name': 'mg_IEX', 'type': 'float', 'values_limit': nan, 'comments': 'protein yield (mg) after IEX'}\n"
     ]
    }
   ],
   "source": [
    "group_json=process_group(grouped_data.get_group(\"IEX\"))"
   ]
  },
  {
   "cell_type": "code",
   "execution_count": 66,
   "id": "dee20f1d-8ae7-4efd-abce-20c31d013c82",
   "metadata": {},
   "outputs": [],
   "source": [
    "def transform_values_limit(value):\n",
    "    try:\n",
    "        if value is None or value == '':\n",
    "            return [] \n",
    "        return str(value).split(',')\n",
    "    except (TypeError, AttributeError):\n",
    "        return []"
   ]
  },
  {
   "cell_type": "code",
   "execution_count": 49,
   "id": "6ff221f4-8a3d-4894-a1c6-fcda1b9f499a",
   "metadata": {},
   "outputs": [
    {
     "data": {
      "text/plain": [
       "[{'table_name': 'IEX',\n",
       "  'variable_name': 'date_IEX',\n",
       "  'type': 'str',\n",
       "  'values_limit': ['nan'],\n",
       "  'comments': 'date IEX was performed'},\n",
       " {'table_name': 'IEX',\n",
       "  'variable_name': 'column_IEX',\n",
       "  'type': 'enum',\n",
       "  'values_limit': ['Q', 'S'],\n",
       "  'comments': 'type of IEX column. (-)-charged protein binds to (+)-charged column (Q), (+)-charged protein binds to (-)-charged column (S)'},\n",
       " {'table_name': 'IEX',\n",
       "  'variable_name': 'column_volume_IEX',\n",
       "  'type': 'enum',\n",
       "  'values_limit': ['5', '6', '1'],\n",
       "  'comments': 'volume (ml) of IEX column. Approximately related to maximum protein-bound capacity: 5 (max. 275 mg, type HP), 6 (max. 240 mg, type Resource), 1 (max. 45 mg, type Resource)'},\n",
       " {'table_name': 'IEX',\n",
       "  'variable_name': 'purity_IEX',\n",
       "  'type': 'int',\n",
       "  'values_limit': ['nan'],\n",
       "  'comments': '% protein purity compared to contaminants in an SDS-PAGE'},\n",
       " {'table_name': 'IEX',\n",
       "  'variable_name': 'mg_IEX',\n",
       "  'type': 'float',\n",
       "  'values_limit': ['nan'],\n",
       "  'comments': 'protein yield (mg) after IEX'}]"
      ]
     },
     "execution_count": 49,
     "metadata": {},
     "output_type": "execute_result"
    }
   ],
   "source": [
    "group_json"
   ]
  },
  {
   "cell_type": "code",
   "execution_count": 50,
   "id": "7090b8ac-8d85-487b-88f0-98e2546316a1",
   "metadata": {},
   "outputs": [],
   "source": [
    " group_json = group_data.to_dict(orient='records')"
   ]
  },
  {
   "cell_type": "code",
   "execution_count": 53,
   "id": "e5be805c-bd00-4816-abf4-2e5262d43cb6",
   "metadata": {},
   "outputs": [
    {
     "data": {
      "text/plain": [
       "nan"
      ]
     },
     "execution_count": 53,
     "metadata": {},
     "output_type": "execute_result"
    }
   ],
   "source": [
    "group_json[0][\"values_limit\"]\n"
   ]
  },
  {
   "cell_type": "code",
   "execution_count": 58,
   "id": "35637ef2-260a-4e09-9ef3-0b2bc538ae9c",
   "metadata": {},
   "outputs": [
    {
     "data": {
      "text/plain": [
       "[{'table_name': 'SUMO',\n",
       "  'variable_name': 'date_SUMO',\n",
       "  'type': 'str',\n",
       "  'values_limit': nan,\n",
       "  'comments': 'date SUMO cleavage was performed'},\n",
       " {'table_name': 'SUMO',\n",
       "  'variable_name': 'perc_cleaved_SUMO',\n",
       "  'type': 'int',\n",
       "  'values_limit': nan,\n",
       "  'comments': 'percentage of protein cleaved in an SDS-PAGE'},\n",
       " {'table_name': 'SUMO',\n",
       "  'variable_name': 'mg_SUMO',\n",
       "  'type': 'float',\n",
       "  'values_limit': nan,\n",
       "  'comments': 'protein yield (mg) after SUMO cleavage'}]"
      ]
     },
     "execution_count": 58,
     "metadata": {},
     "output_type": "execute_result"
    }
   ],
   "source": [
    "group_data.to_dict(orient='records')"
   ]
  },
  {
   "cell_type": "code",
   "execution_count": 59,
   "id": "a6f59cc6-c650-4226-ac28-2815a467306f",
   "metadata": {},
   "outputs": [
    {
     "data": {
      "text/html": [
       "<div>\n",
       "<style scoped>\n",
       "    .dataframe tbody tr th:only-of-type {\n",
       "        vertical-align: middle;\n",
       "    }\n",
       "\n",
       "    .dataframe tbody tr th {\n",
       "        vertical-align: top;\n",
       "    }\n",
       "\n",
       "    .dataframe thead th {\n",
       "        text-align: right;\n",
       "    }\n",
       "</style>\n",
       "<table border=\"1\" class=\"dataframe\">\n",
       "  <thead>\n",
       "    <tr style=\"text-align: right;\">\n",
       "      <th></th>\n",
       "      <th>table_name</th>\n",
       "      <th>variable_name</th>\n",
       "      <th>type</th>\n",
       "      <th>values_limit</th>\n",
       "      <th>comments</th>\n",
       "    </tr>\n",
       "  </thead>\n",
       "  <tbody>\n",
       "    <tr>\n",
       "      <th>22</th>\n",
       "      <td>SUMO</td>\n",
       "      <td>date_SUMO</td>\n",
       "      <td>str</td>\n",
       "      <td>NaN</td>\n",
       "      <td>date SUMO cleavage was performed</td>\n",
       "    </tr>\n",
       "    <tr>\n",
       "      <th>23</th>\n",
       "      <td>SUMO</td>\n",
       "      <td>perc_cleaved_SUMO</td>\n",
       "      <td>int</td>\n",
       "      <td>NaN</td>\n",
       "      <td>percentage of protein cleaved in an SDS-PAGE</td>\n",
       "    </tr>\n",
       "    <tr>\n",
       "      <th>24</th>\n",
       "      <td>SUMO</td>\n",
       "      <td>mg_SUMO</td>\n",
       "      <td>float</td>\n",
       "      <td>NaN</td>\n",
       "      <td>protein yield (mg) after SUMO cleavage</td>\n",
       "    </tr>\n",
       "  </tbody>\n",
       "</table>\n",
       "</div>"
      ],
      "text/plain": [
       "   table_name      variable_name   type values_limit  \\\n",
       "22       SUMO          date_SUMO    str          NaN   \n",
       "23       SUMO  perc_cleaved_SUMO    int          NaN   \n",
       "24       SUMO            mg_SUMO  float          NaN   \n",
       "\n",
       "                                        comments  \n",
       "22              date SUMO cleavage was performed  \n",
       "23  percentage of protein cleaved in an SDS-PAGE  \n",
       "24        protein yield (mg) after SUMO cleavage  "
      ]
     },
     "execution_count": 59,
     "metadata": {},
     "output_type": "execute_result"
    }
   ],
   "source": [
    "group_data"
   ]
  },
  {
   "cell_type": "code",
   "execution_count": 60,
   "id": "048d0f4d-676f-4233-9657-387677da6853",
   "metadata": {},
   "outputs": [],
   "source": [
    "xdf = group_data.fillna('')"
   ]
  },
  {
   "cell_type": "code",
   "execution_count": 61,
   "id": "b3af4942-4da5-4b50-9a77-6cf32f2c24cc",
   "metadata": {},
   "outputs": [
    {
     "ename": "NameError",
     "evalue": "name 'xf' is not defined",
     "output_type": "error",
     "traceback": [
      "\u001b[0;31m---------------------------------------------------------------------------\u001b[0m",
      "\u001b[0;31mNameError\u001b[0m                                 Traceback (most recent call last)",
      "Cell \u001b[0;32mIn[61], line 1\u001b[0m\n\u001b[0;32m----> 1\u001b[0m \u001b[43mxf\u001b[49m\n",
      "\u001b[0;31mNameError\u001b[0m: name 'xf' is not defined"
     ]
    }
   ],
   "source": [
    "xf"
   ]
  },
  {
   "cell_type": "code",
   "execution_count": 62,
   "id": "78ec734d-7706-40f7-acc1-ec168f8a90ee",
   "metadata": {},
   "outputs": [
    {
     "data": {
      "text/html": [
       "<div>\n",
       "<style scoped>\n",
       "    .dataframe tbody tr th:only-of-type {\n",
       "        vertical-align: middle;\n",
       "    }\n",
       "\n",
       "    .dataframe tbody tr th {\n",
       "        vertical-align: top;\n",
       "    }\n",
       "\n",
       "    .dataframe thead th {\n",
       "        text-align: right;\n",
       "    }\n",
       "</style>\n",
       "<table border=\"1\" class=\"dataframe\">\n",
       "  <thead>\n",
       "    <tr style=\"text-align: right;\">\n",
       "      <th></th>\n",
       "      <th>table_name</th>\n",
       "      <th>variable_name</th>\n",
       "      <th>type</th>\n",
       "      <th>values_limit</th>\n",
       "      <th>comments</th>\n",
       "    </tr>\n",
       "  </thead>\n",
       "  <tbody>\n",
       "    <tr>\n",
       "      <th>22</th>\n",
       "      <td>SUMO</td>\n",
       "      <td>date_SUMO</td>\n",
       "      <td>str</td>\n",
       "      <td></td>\n",
       "      <td>date SUMO cleavage was performed</td>\n",
       "    </tr>\n",
       "    <tr>\n",
       "      <th>23</th>\n",
       "      <td>SUMO</td>\n",
       "      <td>perc_cleaved_SUMO</td>\n",
       "      <td>int</td>\n",
       "      <td></td>\n",
       "      <td>percentage of protein cleaved in an SDS-PAGE</td>\n",
       "    </tr>\n",
       "    <tr>\n",
       "      <th>24</th>\n",
       "      <td>SUMO</td>\n",
       "      <td>mg_SUMO</td>\n",
       "      <td>float</td>\n",
       "      <td></td>\n",
       "      <td>protein yield (mg) after SUMO cleavage</td>\n",
       "    </tr>\n",
       "  </tbody>\n",
       "</table>\n",
       "</div>"
      ],
      "text/plain": [
       "   table_name      variable_name   type values_limit  \\\n",
       "22       SUMO          date_SUMO    str                \n",
       "23       SUMO  perc_cleaved_SUMO    int                \n",
       "24       SUMO            mg_SUMO  float                \n",
       "\n",
       "                                        comments  \n",
       "22              date SUMO cleavage was performed  \n",
       "23  percentage of protein cleaved in an SDS-PAGE  \n",
       "24        protein yield (mg) after SUMO cleavage  "
      ]
     },
     "execution_count": 62,
     "metadata": {},
     "output_type": "execute_result"
    }
   ],
   "source": [
    "xdf"
   ]
  },
  {
   "cell_type": "code",
   "execution_count": 63,
   "id": "9e6c4445-7a66-4fe2-b04c-e924023d8dfb",
   "metadata": {},
   "outputs": [
    {
     "data": {
      "text/plain": [
       "[{'table_name': 'SUMO',\n",
       "  'variable_name': 'date_SUMO',\n",
       "  'type': 'str',\n",
       "  'values_limit': '',\n",
       "  'comments': 'date SUMO cleavage was performed'},\n",
       " {'table_name': 'SUMO',\n",
       "  'variable_name': 'perc_cleaved_SUMO',\n",
       "  'type': 'int',\n",
       "  'values_limit': '',\n",
       "  'comments': 'percentage of protein cleaved in an SDS-PAGE'},\n",
       " {'table_name': 'SUMO',\n",
       "  'variable_name': 'mg_SUMO',\n",
       "  'type': 'float',\n",
       "  'values_limit': '',\n",
       "  'comments': 'protein yield (mg) after SUMO cleavage'}]"
      ]
     },
     "execution_count": 63,
     "metadata": {},
     "output_type": "execute_result"
    }
   ],
   "source": [
    "group_data.fillna(\"\").to_dict(orient='records')"
   ]
  },
  {
   "cell_type": "code",
   "execution_count": 71,
   "id": "36459b2d-f0bd-4ee0-adfe-c6e5f1f55741",
   "metadata": {},
   "outputs": [],
   "source": [
    "input=\"/workspaces/mgv033.2-fdz-viu-tfm/workspace/code/pyThrotein/config/metadata.json\""
   ]
  },
  {
   "cell_type": "code",
   "execution_count": 72,
   "id": "e87e42a4-b418-4375-8dbe-78bf27712335",
   "metadata": {},
   "outputs": [],
   "source": [
    "\n",
    "with open(input, \"r\") as json_file:\n",
    "    metadata = json.load(json_file)"
   ]
  },
  {
   "cell_type": "code",
   "execution_count": null,
   "id": "43a3612c-f016-499a-986f-60f7659cce21",
   "metadata": {},
   "outputs": [],
   "source": [
    "metadata"
   ]
  },
  {
   "cell_type": "code",
   "execution_count": 86,
   "id": "4da25541-00a2-48db-a278-9acc26a71ecf",
   "metadata": {},
   "outputs": [
    {
     "name": "stdout",
     "output_type": "stream",
     "text": [
      "IEX\n",
      "# [debug] -- Table: IEX\n",
      "CREATE TABLE IF NOT EXISTS IEX (\n",
      "    exp_id int -- experiment identification number\n",
      "    id str -- step conditions identification number\n",
      "    date_IEX str -- date IEX was performed\n",
      "    column_IEX ENUM('Q', 'S') -- type of IEX column. (-)-charged protein binds to (+)-charged column (Q), (+)-charged protein binds to (-)-charged column (S)\n",
      "    column_volume_IEX ENUM('5', '6', '1') -- volume (ml) of IEX column. Approximately related to maximum protein-bound capacity: 5 (max. 275 mg, type HP), 6 (max. 240 mg, type Resource), 1 (max. 45 mg, type Resource)\n",
      "    purity_IEX int -- % protein purity compared to contaminants in an SDS-PAGE\n",
      "    mg_IEX float -- protein yield (mg) after IEX\n",
      ");\n",
      "\n",
      "\n",
      "IMAC\n",
      "# [debug] -- Table: IMAC\n",
      "CREATE TABLE IF NOT EXISTS IMAC (\n",
      "    exp_id int -- experiment identification number\n",
      "    id str -- step conditions identification number\n",
      "    date_IMAC str -- date IMAC was performed\n",
      "    wash_IMAC ENUM('mild', 'moderate', 'harsh', 'urea') -- Type of wash in IMAC. Mild (low ionic strength, 200-500 mM NaCl), moderate (high ionic strength, 1 M NaCl), harsh (1 M NaCl plus LiSO4 and Bicine), urea (hard wash, denatures protein)\n",
      "    buffer_IMAC ENUM('T8.5', 'T8.0', 'T7.5', 'Ph7.5', 'Ph7.0', 'Ph6.8') -- Type of buffer at which protein is eluted. T (Tris-HCl, pH 8.5, 8.0, 7.5), Ph (Na phosphate, pH 7.5, 7.0, 6.8)\n",
      "    purity_IMAC int -- % protein purity compared to contaminants in an SDS-PAGE\n",
      "    mg_IMAC float -- protein yield (mg) after IMAC\n",
      ");\n",
      "\n",
      "\n",
      "Induction\n",
      "# [debug] -- Table: Induction\n",
      "CREATE TABLE IF NOT EXISTS Induction (\n",
      "    exp_id int -- experiment identification number\n",
      "    id str -- step conditions identification number. One number each indicating a particular set of experimental conditions for each experiment performed \n",
      "    date_ind str -- date induction was performed\n",
      "    cells ENUM('Star', 'Rosetta', 'pLEMO', 'Lobstr') -- type of bacteria used to generate protein\n",
      "    medium ENUM('2xYT', 'M9', 'P', 'Terrific_broth') -- type of medium used to grow bacteria. According to nutrients richness/composition: Terrific_broth(extra-rich), 2xYT (rich), M9 (moderate), P (rich in phosphate)\n",
      "    volume float -- Volume of medium used to grow bacteria\n",
      "    OD float -- optical density at which protein is induced\n",
      "    temp int -- temperature (Celsius) at which bacteria grow during induction\n",
      "    hours int -- time (hours) that protein is being induced (from start of induction to pellet collection)\n",
      "    pellet float -- pellet obtained (grams)\n",
      ");\n",
      "\n",
      "\n",
      "Prot\n",
      "# [debug] -- Table: Prot\n",
      "CREATE TABLE IF NOT EXISTS Prot (\n",
      "    exp_id int -- experiment identification number\n",
      "    Protein str -- protein name\n",
      "    Species ENUM('mammal', 'CHIKV', 'VEEV', 'SARS_CoV_2') -- mammal or virus species\n",
      "    His_tag ENUM('N', 'C') -- His-tag location in protein. N-terminal (N) or C-terminal (C)\n",
      "    SUMO_tag ENUM('TRUE', 'FALSE') -- Contains (TRUE), or not (FALSE), SUMO-tag\n",
      "    MW float -- molecular weight\n",
      "    pI float -- isoelectric point, pH at which protein has no net charge. Values between 0 and 14\n",
      "    Charge_pH7 float -- protein charge at pH7. Values between 0 and 14\n",
      ");\n",
      "\n",
      "\n",
      "SEC\n",
      "# [debug] -- Table: SEC\n",
      "CREATE TABLE IF NOT EXISTS SEC (\n",
      "    exp_id int -- experiment identification number\n",
      "    id str -- step conditions identification number\n",
      "    date_SEC str -- date SEC was performed\n",
      "    column_SEC ENUM('superdex', 'superdex_highload') -- type of SEC column. Related to maximum sample volume that can be loaded. Superdex (max. 0.45 ml), superdex_highload (max. 4.5 ml)\n",
      "    column_unit_SEC ENUM('75200') -- type of SEC column according to MW of contaminants to discard. 75 (for small MW contaminants), 200 (for high MW contaminants)\n",
      "    purity_SEC int -- % protein purity compared to contaminants in an SDS-PAGE\n",
      "    mg_SEC float -- protein yield (mg) after SEC\n",
      "    peak_SEC int -- volume (ml) at which protein elutes in a SEC purification. Related to MW\n",
      ");\n",
      "\n",
      "\n",
      "SUMO\n",
      "# [debug] -- Table: SUMO\n",
      "CREATE TABLE IF NOT EXISTS SUMO (\n",
      "    exp_id int -- experiment identification number\n",
      "    id str -- step conditions identification number\n",
      "    date_SUMO str -- date SUMO cleavage was performed\n",
      "    perc_cleaved_SUMO int -- percentage of protein cleaved in an SDS-PAGE\n",
      "    mg_SUMO float -- protein yield (mg) after SUMO cleavage\n",
      ");\n",
      "\n",
      "\n"
     ]
    }
   ],
   "source": [
    "for table_name, entries in metadata.items():\n",
    "    print(table_name)\n",
    "\n",
    "    table_sql = generate_sql_script_for_table(table_name, entries)\n",
    "    print(f\"# [debug] {table_sql}\")"
   ]
  },
  {
   "cell_type": "code",
   "execution_count": 84,
   "id": "3113453b-fbdd-440c-8c5d-83313f6483ed",
   "metadata": {},
   "outputs": [],
   "source": [
    "def generate_sql_script_for_table(table_name, metadata_entries):\n",
    "    sql_script = f\"-- Table: {table_name}\\n\"\n",
    "    sql_script += f\"CREATE TABLE IF NOT EXISTS {table_name} (\\n\"\n",
    "\n",
    "    for entry in metadata_entries:\n",
    "        variable_name = entry[\"variable_name\"]\n",
    "        data_type = entry[\"type\"]\n",
    "        comment = entry[\"comments\"]\n",
    "\n",
    "        # Define the SQL column definition\n",
    "                # Handle enum types and values\n",
    "        if data_type == \"enum\":\n",
    "            enum_values = \", \".join(f\"'{value}'\" for value in entry[\"values_limit\"])\n",
    "            column_definition = f\"    {variable_name} ENUM({enum_values}) -- {comment}\\n\"\n",
    "        else:\n",
    "            column_definition = f\"    {variable_name} {data_type} -- {comment}\\n\"\n",
    "        \n",
    "        sql_script += column_definition\n",
    "\n",
    "    sql_script += \");\\n\\n\"\n",
    "    return sql_script"
   ]
  },
  {
   "cell_type": "code",
   "execution_count": null,
   "id": "c6f6e663-e22b-4d32-ba0d-9adcc841a908",
   "metadata": {},
   "outputs": [],
   "source": []
  }
 ],
 "metadata": {
  "kernelspec": {
   "display_name": "Python 3 (ipykernel)",
   "language": "python",
   "name": "python3"
  },
  "language_info": {
   "codemirror_mode": {
    "name": "ipython",
    "version": 3
   },
   "file_extension": ".py",
   "mimetype": "text/x-python",
   "name": "python",
   "nbconvert_exporter": "python",
   "pygments_lexer": "ipython3",
   "version": "3.10.8"
  }
 },
 "nbformat": 4,
 "nbformat_minor": 5
}
