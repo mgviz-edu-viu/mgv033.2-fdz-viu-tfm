{
  "cells": [
    {
      "cell_type": "markdown",
      "metadata": {
        "id": "view-in-github",
        "colab_type": "text"
      },
      "source": [
        "<a href=\"https://colab.research.google.com/github/mgviz-edu-viu/mgv033.2-fdz-viu-tfm/blob/main/workspace/TFM_Python_review_20230610_pmg.ipynb\" target=\"_parent\"><img src=\"https://colab.research.google.com/assets/colab-badge.svg\" alt=\"Open In Colab\"/></a>"
      ]
    },
    {
      "cell_type": "markdown",
      "source": [
        "# "
      ],
      "metadata": {
        "id": "TUgRuSnCjrmk"
      },
      "id": "TUgRuSnCjrmk"
    },
    {
      "cell_type": "code",
      "source": [
        "from google.colab import drive\n",
        "drive.mount('/content/drive')"
      ],
      "metadata": {
        "colab": {
          "base_uri": "https://localhost:8080/"
        },
        "id": "tHdXNdovj4mm",
        "outputId": "a3744f3c-0f55-4605-84e3-19fb9193e284"
      },
      "id": "tHdXNdovj4mm",
      "execution_count": null,
      "outputs": [
        {
          "output_type": "stream",
          "name": "stdout",
          "text": [
            "Mounted at /content/drive\n"
          ]
        }
      ]
    },
    {
      "cell_type": "code",
      "source": [
        "from pathlib import Path"
      ],
      "metadata": {
        "id": "2OUzWnkLlJkm"
      },
      "id": "2OUzWnkLlJkm",
      "execution_count": null,
      "outputs": []
    },
    {
      "cell_type": "code",
      "source": [
        "file = \"/content/drive/MyDrive/students_viu_workspace/mgv033.2-francisco_dominguez-workspace/DATA/TFM_Protein_database_05092023.xlsx\""
      ],
      "metadata": {
        "id": "Yh7_1TWskWv1"
      },
      "id": "Yh7_1TWskWv1",
      "execution_count": null,
      "outputs": []
    },
    {
      "cell_type": "code",
      "execution_count": null,
      "id": "b281461b",
      "metadata": {
        "id": "b281461b"
      },
      "outputs": [],
      "source": [
        "import pandas as pd\n",
        "import os\n",
        "import numpy as np\n",
        "import openpyxl as xl"
      ]
    },
    {
      "cell_type": "code",
      "execution_count": null,
      "id": "b05bcaa1",
      "metadata": {
        "id": "b05bcaa1",
        "outputId": "3b880494-8c16-4918-b60f-7cc0c8895179"
      },
      "outputs": [
        {
          "name": "stdout",
          "output_type": "stream",
          "text": [
            "Only Excel files with xls, xlsx, xlsm, xlsb, odf or odt extensions are permitted\n",
            "Enter database: TFM_Protein_database_05092023\n",
            "TFM_Protein_database_05092023.xlsx is in this directory\n"
          ]
        }
      ],
      "source": [
        "#work with an Excel file in the same directory\n",
        "#valid extensions: xls, xlsx, xlsm, xlsb, odf and odt\n",
        "\n",
        "list_ext = ['xls', 'xlsx', 'xlsm', 'xlsb', 'odf', 'odt']\n",
        "\n",
        "print('Only Excel files with xls, xlsx, xlsm, xlsb, odf or odt extensions are permitted')\n",
        "\n",
        "database = input(\"Enter database: \")\n",
        "\n",
        "try:     \n",
        "    database_list_ext = []\n",
        "    for item in list_ext:\n",
        "        name_dat_ext = database + '.' + item\n",
        "        database_list_ext.append(name_dat_ext)\n",
        "       \n",
        "    valid_dat_ext = []\n",
        "    for item in database_list_ext:\n",
        "        check_file = os.path.isfile(item)\n",
        "        if check_file == False:\n",
        "            pass\n",
        "        else:\n",
        "            print(item + \" \" + 'is in this directory')\n",
        "            df = pd.read_excel(item, sheet_name = None)\n",
        "            valid_dat_ext.append(item)\n",
        "            \n",
        "    if valid_dat_ext:\n",
        "        for key in df.keys():\n",
        "            globals()[key] = df[key]\n",
        "    else:\n",
        "        print(database + \" \" + 'is not in this directory or does not exist')\n",
        "          \n",
        "except:\n",
        "    print(database + \" \" + 'is not a valid name')\n"
      ]
    },
    {
      "cell_type": "code",
      "source": [
        "from pathlib import Path"
      ],
      "metadata": {
        "id": "c1gQgBulWlh-"
      },
      "id": "c1gQgBulWlh-",
      "execution_count": null,
      "outputs": []
    },
    {
      "cell_type": "code",
      "execution_count": null,
      "id": "928ed368",
      "metadata": {
        "id": "928ed368",
        "outputId": "b78e9f2e-665f-41df-fdc3-7e7e8a41aec7"
      },
      "outputs": [
        {
          "name": "stdout",
          "output_type": "stream",
          "text": [
            "There are 108 purifications in TFM_Protein_database_05092023\n",
            "There are 39 different proteins in TFM_Protein_database_05092023\n"
          ]
        }
      ],
      "source": [
        "#know total different purifications are\n",
        "\n",
        "total_purifications = Prot_char.exp_id\n",
        "print(\"There are \" + str(len(total_purifications)) + \" purifications in \" + database)\n",
        "\n",
        "#know total proteins are (proteins of different types are considered different)\n",
        "\n",
        "protein_type = []\n",
        "\n",
        "for row in Prot_char:\n",
        "    list_protein_type = list(zip(Prot_char.Protein, Prot_char.Type))          \n",
        "    set_protein_type = set(list_protein_type)\n",
        "\n",
        "print(\"There are \" + str(len(set_protein_type)) + \" different proteins in \" + database)\n"
      ]
    },
    {
      "cell_type": "code",
      "execution_count": null,
      "id": "6194ca6d",
      "metadata": {
        "id": "6194ca6d",
        "outputId": "4706b30e-f177-4425-dd07-bbfa6bf7a59c"
      },
      "outputs": [
        {
          "name": "stdout",
          "output_type": "stream",
          "text": [
            "Type can only be {'VEEV', 'mammal', 'CHIKV', 'SARS_CoV_2'}\n",
            "Enter protein: HVD\n",
            "HVD protein name is in the database\n",
            "{'VEEV', 'CHIKV'} types exist for HVD protein in the database\n",
            "Enter type: VEEV\n",
            "HVD protein of VEEV is in the database\n"
          ]
        }
      ],
      "source": [
        "#know if a protein of a specific type is in database\n",
        "   \n",
        "list_all_proteins = list(Prot_char.Protein)\n",
        "\n",
        "list_all_types = list(Prot_char.Type)\n",
        "set_list_all_types = set(list_all_types)\n",
        "   \n",
        "print(\"Type can only be \" + str(set_list_all_types)) \n",
        "#name of protein\n",
        "protein = input(\"Enter protein: \")\n",
        "  \n",
        "if protein not in list_all_proteins:\n",
        "    print(protein + \" protein name \" + \"is not in the database\")\n",
        "else:    \n",
        "    print(protein + \" protein name \" + \"is in the database\")\n",
        "    \n",
        "list_types_for_prot = []\n",
        "for item in list_protein_type:  \n",
        "    if protein != item[0]:\n",
        "        continue\n",
        "    else:\n",
        "        list_types_for_prot.append(item[1])\n",
        "\n",
        "set_list_types_for_prot = set(list_types_for_prot)\n",
        "print(str(set_list_types_for_prot) + \" types exist for \" + protein + \" protein in the database\")    \n",
        "\n",
        "#name of type\n",
        "type_prot = input(\"Enter type: \")  \n",
        "if type_prot in list_types_for_prot:\n",
        "    print(protein + \" protein of \" + type_prot + \" is in the database\")\n",
        "elif type_prot in list_all_types:\n",
        "    print(\"Not a valid type for \" + protein + \" protein\")\n",
        "else:\n",
        "    print(\"Not a valid type name\")\n"
      ]
    },
    {
      "cell_type": "code",
      "execution_count": null,
      "id": "72afb244",
      "metadata": {
        "scrolled": true,
        "id": "72afb244"
      },
      "outputs": [],
      "source": [
        "#choose next step\n",
        "option = input(\"Please select between the following options:\\n1. Protein characteristics\\n2. Expression characteristics\\n3. Calculate purification variability\\n4. \")\n",
        "\n"
      ]
    },
    {
      "cell_type": "code",
      "execution_count": null,
      "id": "20788e00",
      "metadata": {
        "id": "20788e00",
        "outputId": "0843b74b-6c56-4b7b-ff3e-a3c70236ad7f"
      },
      "outputs": [
        {
          "name": "stdout",
          "output_type": "stream",
          "text": [
            "  Protein   Type          MW    pI  Charge_pH7 His_tag SUMO_tag\n",
            "0     HVD   VEEV  25055.4492  5.03       -13.6       N       No\n",
            "2     HVD  CHIKV  22553.5957  4.42       -24.9       N       No\n",
            "5     HVD  CHIKV  24454.5449  4.29       -25.9       C      Yes\n",
            "Do you want to see all exp_id? Yes/No Yes\n",
            "    exp_id Protein   Type          MW    pI  Charge_pH7 His_tag  SUMO_tag\n",
            "0        4     HVD   VEEV  25055.4492  5.03       -13.6       N         0\n",
            "1        5     HVD   VEEV  25055.4492  5.03       -13.6       N         0\n",
            "2        6     HVD  CHIKV  22553.5957  4.42       -24.9       N         0\n",
            "3        7     HVD  CHIKV  22553.5957  4.42       -24.9       N         0\n",
            "4       12     HVD   VEEV  25128.5039  5.03       -13.6       C         0\n",
            "5       16     HVD  CHIKV  24454.5449  4.29       -25.9       C         1\n",
            "6       26     HVD   VEEV  25055.4492  5.03       -13.6       N         0\n",
            "10      34     HVD  CHIKV  24454.5449  4.29       -25.9       C         1\n",
            "11      37     HVD  CHIKV  24454.5449  4.29       -25.9       C         1\n",
            "12      38     HVD  CHIKV  24454.5449  4.29       -25.9       C         1\n",
            "13      43     HVD  CHIKV  24454.5449  4.29       -25.9       C         1\n",
            "16      47     HVD  CHIKV  22553.5957  4.42       -24.9       N         0\n",
            "17      48     HVD   VEEV  25055.4492  5.03       -13.6       N         0\n",
            "18      49     HVD   VEEV  25128.5039  5.03       -13.6       C         0\n",
            "48     107     HVD  CHIKV  24454.5449  4.29       -25.9       C         1\n",
            "52     111     HVD  CHIKV  24454.5449  4.29       -25.9       C         1\n"
          ]
        }
      ],
      "source": [
        "#1. Protein characteristics\n",
        "\n",
        "prot_prot_char = Prot_char[Prot_char.Protein == protein]\n",
        "\n",
        "#change in His_tag or SUMO_tag leads to change in pI and Charge_pH7, so we subset in one of them to get\n",
        "#all different proteins\n",
        "non_dup_prot_prot_char = prot_prot_char.drop_duplicates(subset = 'pI', keep = 'first')\n",
        "\n",
        "non_dup_prot_prot_char = non_dup_prot_prot_char.replace({'SUMO_tag': {1:'Yes', 0:'No'}})\n",
        "\n",
        "print(non_dup_prot_prot_char.iloc[:,1:])\n",
        "\n",
        "all_exp_id = input(\"Do you want to see all exp_id? Yes/No \")\n",
        "if all_exp_id == 'No':\n",
        "    pass\n",
        "elif all_exp_id == 'Yes':\n",
        "    print(prot_prot_char)\n",
        "else:\n",
        "    print(\"Not valid answer\")\n",
        "        "
      ]
    },
    {
      "cell_type": "code",
      "execution_count": null,
      "id": "a1057a44",
      "metadata": {
        "id": "a1057a44",
        "outputId": "94ab3dec-3a70-4829-887e-4930a2e6197d"
      },
      "outputs": [
        {
          "name": "stdout",
          "output_type": "stream",
          "text": [
            "   exp_id Protein  Type  ind_id    Cells Medium  Volume     OD  Temp  Hours  \\\n",
            "0       4     HVD  VEEV       1  Rosetta     M9     1.0  1.259    37      5   \n",
            "1       5     HVD  VEEV       1  Rosetta      P     1.0  2.015    25     19   \n",
            "2      12     HVD  VEEV       1     Star     M9     0.5  1.275    25     20   \n",
            "3      26     HVD  VEEV       1  Rosetta   2xYT     1.0  1.520    25     20   \n",
            "4      48     HVD  VEEV       1     Star     M9     0.5  1.153    25     20   \n",
            "5      49     HVD  VEEV       1  Rosetta     M9     0.5  1.147    25     19   \n",
            "\n",
            "   Pellet_weight  \n",
            "0           7.27  \n",
            "1           5.35  \n",
            "2           4.11  \n",
            "3          10.77  \n",
            "4           4.56  \n",
            "5           3.64  \n",
            "\n",
            "Induction characteristics for the purification with highest pellet obtained\n",
            "\n",
            "   exp_id Protein  Type  ind_id    Cells Medium  Volume    OD  Temp  Hours  \\\n",
            "3      26     HVD  VEEV       1  Rosetta   2xYT     1.0  1.52    25     20   \n",
            "\n",
            "   Pellet_weight  pellet_volume  \n",
            "3          10.77          10.77  \n"
          ]
        }
      ],
      "source": [
        "#2. Expression characteristics. Best expression according to pellet obtained\n",
        "\n",
        "def show_ind(x,y):\n",
        "    prot_prot_char = Prot_char[Prot_char.Protein == x]\n",
        "    prot_type_char = prot_prot_char[prot_prot_char.Type == y]\n",
        "    char_ind = pd.merge(prot_type_char, Induction, left_on = 'exp_id', right_on = 'exp_id')\n",
        "#print all different expressions   \n",
        "    #print(char_ind.exp_id, char_ind.Protein, char_ind.Type, char_ind.ind_id, char_ind.Cells, char_ind.Medium, char_ind.Volume, char_ind.OD, char_ind.Temp, char_ind.Hours, char_ind.Pellet_weight)\n",
        "    columns_ind = char_ind[[\"exp_id\", \"Protein\", \"Type\", \"ind_id\", \"Cells\", \"Medium\", \"Volume\", \"OD\", \"Temp\", \"Hours\", \"Pellet_weight\"]]\n",
        "    print(columns_ind)\n",
        "#show highest pellet per volume and print induction characteristics    \n",
        "    columns_ind_copy = columns_ind.copy()  \n",
        "    columns_ind_copy['pellet_volume'] = columns_ind_copy.Volume * columns_ind_copy.Pellet_weight\n",
        "    print(\"\\nInduction characteristics for the purification with highest pellet obtained\\n\")\n",
        "    print(columns_ind_copy[columns_ind_copy.pellet_volume == columns_ind_copy.pellet_volume.max()])\n",
        "    \n",
        "show_ind(protein, type_prot)\n",
        " "
      ]
    },
    {
      "cell_type": "code",
      "execution_count": null,
      "id": "9a99beb1",
      "metadata": {
        "id": "9a99beb1",
        "outputId": "bdf6594e-ef19-43d4-dfc1-bf8ee0bd1d54"
      },
      "outputs": [
        {
          "name": "stdout",
          "output_type": "stream",
          "text": [
            "   exp_id Protein  Type          MW    pI  Charge_pH7 His_tag  SUMO_tag  \\\n",
            "0       4     HVD  VEEV  25055.4492  5.03       -13.6       N         0   \n",
            "1       5     HVD  VEEV  25055.4492  5.03       -13.6       N         0   \n",
            "2      12     HVD  VEEV  25128.5039  5.03       -13.6       C         0   \n",
            "3      26     HVD  VEEV  25055.4492  5.03       -13.6       N         0   \n",
            "4      48     HVD  VEEV  25055.4492  5.03       -13.6       N         0   \n",
            "5      49     HVD  VEEV  25128.5039  5.03       -13.6       C         0   \n",
            "\n",
            "   ind_id    Cells Medium  Volume     OD  Temp  Hours  Pellet_weight  \n",
            "0       1  Rosetta     M9     1.0  1.259    37      5           7.27  \n",
            "1       1  Rosetta      P     1.0  2.015    25     19           5.35  \n",
            "2       1     Star     M9     0.5  1.275    25     20           4.11  \n",
            "3       1  Rosetta   2xYT     1.0  1.520    25     20          10.77  \n",
            "4       1     Star     M9     0.5  1.153    25     20           4.56  \n",
            "5       1  Rosetta     M9     0.5  1.147    25     19           3.64  \n",
            "Rosetta    4\n",
            "Star       2\n",
            "Name: Cells, dtype: int64\n"
          ]
        }
      ],
      "source": [
        "#3. Calculate purification variability\n",
        "\n",
        "prot_prot_char = Prot_char[Prot_char.Protein == protein]\n",
        "prot_type_char = prot_prot_char[prot_prot_char.Type == type_prot]\n",
        "\n",
        "\n",
        "char_ind_na = pd.merge(prot_type_char, Induction, left_on = 'exp_id', right_on = 'exp_id')\n",
        "char_imac_na = pd.merge(prot_type_char, IMAC, left_on = 'exp_id', right_on = 'exp_id')\n",
        "char_ion_ex_na = pd.merge(prot_type_char, Ion_ex, left_on = 'exp_id', right_on = 'exp_id')\n",
        "char_gel_fil_na = pd.merge(prot_type_char, Gel_fil, left_on = 'exp_id', right_on = 'exp_id')\n",
        "       \n",
        "char_ind = char_ind_na.replace(np.nan, '')            \n",
        "char_imac = char_imac_na.replace(np.nan, '') \n",
        "char_ion_ex = char_ion_ex_na.replace(np.nan, '')  \n",
        "char_gel_fil = char_gel_fil_na.replace(np.nan, '')  \n",
        "    \n",
        "print(char_ind)          \n",
        "\n",
        "\n",
        "\n",
        "sort_cell_char_ind = char_ind.sort_values('Cells')\n",
        "print(sort_cell_char_ind.Cells.value_counts())  \n",
        "cell = sort_cell_char_ind.Cells.iloc[0] \n",
        "if \n",
        "    \n",
        "    \n",
        "  \n",
        "\n"
      ]
    },
    {
      "cell_type": "code",
      "execution_count": null,
      "id": "2241abeb",
      "metadata": {
        "id": "2241abeb",
        "outputId": "d5969bb3-6395-4847-9fef-b18f9c0719da"
      },
      "outputs": [
        {
          "name": "stdout",
          "output_type": "stream",
          "text": [
            "{'pepe': 24, 'pepa': 24, 'pepo': 24}\n"
          ]
        }
      ],
      "source": [
        "alist = ['pepe', 'pepa', 'pepo']\n",
        "\n",
        "\n",
        "vr = {}\n",
        "for n in alist:\n",
        "    vr[n] = 4*6\n",
        "print(vr)    "
      ]
    },
    {
      "cell_type": "code",
      "execution_count": null,
      "id": "642a6a81",
      "metadata": {
        "id": "642a6a81"
      },
      "outputs": [],
      "source": []
    },
    {
      "cell_type": "code",
      "execution_count": null,
      "id": "29befa22",
      "metadata": {
        "id": "29befa22",
        "outputId": "c8aa8d40-b943-4ebc-893e-682870f18812"
      },
      "outputs": [
        {
          "ename": "KeyError",
          "evalue": "'Type'",
          "output_type": "error",
          "traceback": [
            "\u001b[1;31m---------------------------------------------------------------------------\u001b[0m",
            "\u001b[1;31mKeyError\u001b[0m                                  Traceback (most recent call last)",
            "Cell \u001b[1;32mIn[44], line 5\u001b[0m\n\u001b[0;32m      1\u001b[0m \u001b[38;5;66;03m#know the proteins of a specific type\u001b[39;00m\n\u001b[0;32m      3\u001b[0m list_types \u001b[38;5;241m=\u001b[39m []\n\u001b[1;32m----> 5\u001b[0m \u001b[38;5;28;01mfor\u001b[39;00m typ \u001b[38;5;129;01min\u001b[39;00m \u001b[43mdf\u001b[49m\u001b[43m[\u001b[49m\u001b[38;5;124;43m\"\u001b[39;49m\u001b[38;5;124;43mType\u001b[39;49m\u001b[38;5;124;43m\"\u001b[39;49m\u001b[43m]\u001b[49m:\n\u001b[0;32m      6\u001b[0m     list_types\u001b[38;5;241m.\u001b[39mappend(typ)\n\u001b[0;32m      8\u001b[0m set_types \u001b[38;5;241m=\u001b[39m \u001b[38;5;28mstr\u001b[39m(\u001b[38;5;28mset\u001b[39m(list_types))\n",
            "\u001b[1;31mKeyError\u001b[0m: 'Type'"
          ]
        }
      ],
      "source": []
    },
    {
      "cell_type": "code",
      "execution_count": null,
      "id": "ed9c1658",
      "metadata": {
        "id": "ed9c1658"
      },
      "outputs": [],
      "source": []
    },
    {
      "cell_type": "code",
      "execution_count": null,
      "id": "446a29df",
      "metadata": {
        "id": "446a29df"
      },
      "outputs": [],
      "source": [
        "\n",
        "    \n",
        "\n"
      ]
    },
    {
      "cell_type": "code",
      "execution_count": null,
      "id": "30b05300",
      "metadata": {
        "id": "30b05300"
      },
      "outputs": [],
      "source": []
    },
    {
      "cell_type": "code",
      "execution_count": null,
      "id": "e1328da2",
      "metadata": {
        "id": "e1328da2"
      },
      "outputs": [],
      "source": []
    },
    {
      "cell_type": "code",
      "execution_count": null,
      "id": "978b0976",
      "metadata": {
        "id": "978b0976"
      },
      "outputs": [],
      "source": []
    },
    {
      "cell_type": "code",
      "execution_count": null,
      "id": "2004a74e",
      "metadata": {
        "id": "2004a74e"
      },
      "outputs": [],
      "source": []
    }
  ],
  "metadata": {
    "kernelspec": {
      "display_name": "Python 3 (ipykernel)",
      "language": "python",
      "name": "python3"
    },
    "language_info": {
      "codemirror_mode": {
        "name": "ipython",
        "version": 3
      },
      "file_extension": ".py",
      "mimetype": "text/x-python",
      "name": "python",
      "nbconvert_exporter": "python",
      "pygments_lexer": "ipython3",
      "version": "3.11.2"
    },
    "colab": {
      "provenance": [],
      "include_colab_link": true
    }
  },
  "nbformat": 4,
  "nbformat_minor": 5
}